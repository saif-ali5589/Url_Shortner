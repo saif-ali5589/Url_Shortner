{
 "cells": [
  {
   "cell_type": "code",
   "execution_count": 17,
   "metadata": {},
   "outputs": [],
   "source": [
    "import requests"
   ]
  },
  {
   "cell_type": "code",
   "execution_count": 18,
   "metadata": {},
   "outputs": [],
   "source": [
    "username = ''\n",
    "password = ''"
   ]
  },
  {
   "cell_type": "code",
   "execution_count": 19,
   "metadata": {},
   "outputs": [],
   "source": [
    "req = requests.post('https://api-ssl.bitly.com/oauth/access_token',auth = (username,password))"
   ]
  },
  {
   "cell_type": "code",
   "execution_count": 20,
   "metadata": {},
   "outputs": [
    {
     "name": "stdout",
     "output_type": "stream",
     "text": [
      "200\n",
      "access token!!!4183b79aea8bf62f2e9faba519431ff92a8737fa\n"
     ]
    }
   ],
   "source": [
    "print(req.status_code)\n",
    "if req.status_code == 200:\n",
    "    access_token = req.content.decode()\n",
    "    print(f\"access token!!!{access_token}\")\n",
    "else:\n",
    "    print(\"Not a valid credential\")"
   ]
  },
  {
   "cell_type": "code",
   "execution_count": 21,
   "metadata": {},
   "outputs": [],
   "source": [
    "headers = {\"Authorization\":f\"Bearer {access_token}\"}\n",
    "\n",
    "groups_res = requests.get(\"https://api-ssl.bitly.com/v4/groups\", headers=headers)"
   ]
  },
  {
   "cell_type": "code",
   "execution_count": 22,
   "metadata": {},
   "outputs": [
    {
     "name": "stdout",
     "output_type": "stream",
     "text": [
      "Bkar5PqUNci\n"
     ]
    }
   ],
   "source": [
    "if groups_res.status_code == 200:\n",
    "    # if response is OK, get the GUID\n",
    "    groups_data = groups_res.json()['groups'][0]\n",
    "    guid = groups_data['guid']\n",
    "    print(guid)\n",
    "else:\n",
    "    print(\"[!] Cannot get GUID, exiting...\")\n",
    "    exit()"
   ]
  },
  {
   "cell_type": "code",
   "execution_count": 28,
   "metadata": {},
   "outputs": [
    {
     "name": "stdout",
     "output_type": "stream",
     "text": [
      "Shortened URL: https://bit.ly/3mva4Q3\n"
     ]
    }
   ],
   "source": [
    "# the URL you want to shorten\n",
    "url = \"https://linkedin.com/in/saif-ali-16378b182/\"\n",
    "# make the POST request to get shortened URL for `url`\n",
    "shorten_res = requests.post(\"https://api-ssl.bitly.com/v4/shorten\", json={\"group_guid\": guid, \"long_url\": url}, headers=headers)\n",
    "if shorten_res.status_code == 200:\n",
    "    # if response is OK, get the shortened URL\n",
    "    link = shorten_res.json().get(\"link\")\n",
    "    print(\"Shortened URL:\", link)\n",
    "else:\n",
    "    print(shorten_res.status_code)"
   ]
  },
  {
   "cell_type": "code",
   "execution_count": null,
   "metadata": {},
   "outputs": [],
   "source": []
  }
 ],
 "metadata": {
  "kernelspec": {
   "display_name": "Python 3",
   "language": "python",
   "name": "python3"
  },
  "language_info": {
   "codemirror_mode": {
    "name": "ipython",
    "version": 3
   },
   "file_extension": ".py",
   "mimetype": "text/x-python",
   "name": "python",
   "nbconvert_exporter": "python",
   "pygments_lexer": "ipython3",
   "version": "3.7.3"
  }
 },
 "nbformat": 4,
 "nbformat_minor": 2
}
